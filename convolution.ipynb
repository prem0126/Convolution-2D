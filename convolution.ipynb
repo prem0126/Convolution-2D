{
 "cells": [
  {
   "cell_type": "code",
   "execution_count": 1,
   "id": "08940543",
   "metadata": {},
   "outputs": [],
   "source": [
    "import numpy as np\n",
    "import pandas as pd\n",
    "import matplotlib.pyplot as plt\n",
    "from PIL import Image"
   ]
  },
  {
   "cell_type": "code",
   "execution_count": 2,
   "id": "a69093d9",
   "metadata": {},
   "outputs": [],
   "source": [
    "a = np.ones((200,200))\n",
    "b = np.zeros((200,200))\n",
    "c = np.ones((200,200))\n",
    "image = np.concatenate((a, b, c), axis=1)\n",
    "kernel = np.array([[-1,0,1],[-1,0,1],[-1,0,1]])"
   ]
  },
  {
   "cell_type": "code",
   "execution_count": 3,
   "id": "ba1fb1cf",
   "metadata": {},
   "outputs": [
    {
     "data": {
      "text/plain": [
       "<matplotlib.image.AxesImage at 0x137301220>"
      ]
     },
     "execution_count": 3,
     "metadata": {},
     "output_type": "execute_result"
    },
    {
     "data": {
      "image/png": "[encoded data removed]",
      "text/plain": [
       "<Figure size 432x288 with 2 Axes>"
      ]
     },
     "metadata": {
      "needs_background": "light"
     },
     "output_type": "display_data"
    }
   ],
   "source": [
    "fig, (ax1, ax2) = plt.subplots(2, 1)\n",
    "ax1.imshow(image)\n",
    "ax2.imshow(kernel)"
   ]
  },
  {
   "cell_type": "code",
   "execution_count": 4,
   "id": "a2a1caf5",
   "metadata": {},
   "outputs": [],
   "source": [
    "def convolution(image, kernel, padding = 0, stride = 1):\n",
    "    \n",
    "    image_height = image.shape[0]\n",
    "    image_width = image.shape[1]\n",
    "    \n",
    "    kernel_height = kernel.shape[0]\n",
    "    kernel_width = kernel.shape[1]\n",
    "    \n",
    "    output_height = int(((image_height - kernel_height + 2*padding)/stride) + 1)\n",
    "    output_width = int(((image_width - kernel_width + 2*padding)/stride) + 1)\n",
    "    \n",
    "    #pad the image\n",
    "    if padding != 0:\n",
    "        padded_image = np.zeros((image.shape[0] + 2*padding, image.shape[1] + 2*padding))\n",
    "        padded_image[padding : padded_image.shape[0] - padding, padding : padded_image.shape[1] - padding] = image\n",
    "    else:\n",
    "        padded_image = image\n",
    "    \n",
    "    output_image = np.zeros((output_height, output_width))\n",
    "    \n",
    "    #convolution\n",
    "    iim_i = 0\n",
    "    iim_j = 0\n",
    "    oim_i = 0\n",
    "    oim_j = 0\n",
    "\n",
    "    while True:\n",
    "    \n",
    "        output_image[oim_i, oim_j] = (kernel * padded_image[iim_i : iim_i + kernel_height, iim_j : iim_j + kernel_width]).sum()\n",
    "        oim_j += 1\n",
    "        if oim_j == output_image.shape[1]:\n",
    "            oim_j = 0\n",
    "            oim_i += 1\n",
    "        if oim_i == output_image.shape[0]:\n",
    "            break\n",
    "        \n",
    "        iim_j += stride\n",
    "        if iim_j + kernel_width > padded_image.shape[1]:\n",
    "            iim_j = 0\n",
    "            iim_i += stride\n",
    "\n",
    "        if iim_i + kernel_height > padded_image.shape[0]:\n",
    "            break\n",
    "    \n",
    "    return output_image"
   ]
  },
  {
   "cell_type": "code",
   "execution_count": 5,
   "id": "6d4477c7",
   "metadata": {},
   "outputs": [
    {
     "name": "stdout",
     "output_type": "stream",
     "text": [
      "(198, 598)\n",
      "CPU times: user 285 ms, sys: 2.72 ms, total: 288 ms\n",
      "Wall time: 286 ms\n"
     ]
    },
    {
     "data": {
      "text/plain": [
       "<matplotlib.image.AxesImage at 0x13745ef70>"
      ]
     },
     "execution_count": 5,
     "metadata": {},
     "output_type": "execute_result"
    },
    {
     "data": {
      "image/png": "[encoded data removed]",
      "text/plain": [
       "<Figure size 432x288 with 1 Axes>"
      ]
     },
     "metadata": {
      "needs_background": "light"
     },
     "output_type": "display_data"
    }
   ],
   "source": [
    "%%time\n",
    "op1 = convolution(image, kernel, padding = 0)\n",
    "print(op1.shape)\n",
    "fig, ax = plt.subplots()\n",
    "ax.imshow(op1)"
   ]
  },
  {
   "cell_type": "markdown",
   "id": "6dc4259f-6b02-4f68-af4b-08ff40f24788",
   "metadata": {},
   "source": [
    "# Convolution usign FFT"
   ]
  },
  {
   "cell_type": "code",
   "execution_count": 6,
   "id": "a8d2d42e-5300-4923-b541-54be70ce2e3c",
   "metadata": {},
   "outputs": [],
   "source": [
    "def convolution_fft(image, kernel, padding = 'same'):\n",
    "    \n",
    "    image_dim = np.array(image.shape)\n",
    "    kernel_dim = np.array(kernel.shape)\n",
    "    target_dim = image_dim + kernel_dim - 3\n",
    "   \n",
    "    fft = np.fft.fft2(image, target_dim) * np.fft.fft2(kernel, target_dim)\n",
    "    output = np.fft.ifft2(fft).real\n",
    "    \n",
    "    if padding == 'valid':\n",
    "        valid_dim = image_dim - kernel_dim + 1\n",
    "        if any(valid_dim < 1):\n",
    "            valid_dim = kernel_dim - image_dim + 1\n",
    "        crop_start = (target_dim - valid_dim)//2\n",
    "        crop_end = crop_start + valid_dim\n",
    "        \n",
    "        output = output[crop_start[0] : crop_end[0],\n",
    "                        crop_start[1] : crop_end[1]]\n",
    "    \n",
    "    return output"
   ]
  },
  {
   "cell_type": "code",
   "execution_count": 7,
   "id": "f5a2acf4-850d-4b71-b586-798dde86a224",
   "metadata": {},
   "outputs": [
    {
     "name": "stdout",
     "output_type": "stream",
     "text": [
      "(198, 598)\n",
      "CPU times: user 28.6 ms, sys: 3.86 ms, total: 32.5 ms\n",
      "Wall time: 31.6 ms\n"
     ]
    },
    {
     "data": {
      "image/png": "[encoded data removed]",
      "text/plain": [
       "<Figure size 432x288 with 1 Axes>"
      ]
     },
     "metadata": {
      "needs_background": "light"
     },
     "output_type": "display_data"
    }
   ],
   "source": [
    "%%time\n",
    "op2 = convolution_fft(image, kernel, padding = 'valid')\n",
    "fig, ax = plt.subplots()\n",
    "ax.imshow(op2)\n",
    "print(op2.shape)"
   ]
  },
  {
   "cell_type": "code",
   "execution_count": null,
   "id": "eda005a7",
   "metadata": {},
   "outputs": [],
   "source": []
  }
 ],
 "metadata": {
  "kernelspec": {
   "display_name": "Python 3.9 (tensorflow)",
   "language": "python",
   "name": "tensorflow"
  },
  "language_info": {
   "codemirror_mode": {
    "name": "ipython",
    "version": 3
   },
   "file_extension": ".py",
   "mimetype": "text/x-python",
   "name": "python",
   "nbconvert_exporter": "python",
   "pygments_lexer": "ipython3",
   "version": "3.9.12"
  }
 },
 "nbformat": 4,
 "nbformat_minor": 5
}
